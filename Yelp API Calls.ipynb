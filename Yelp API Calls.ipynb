{
 "cells": [
  {
   "cell_type": "markdown",
   "metadata": {
    "id": "8guYh-VR7nlX"
   },
   "source": [
    "# Part 1 - Extracting and Saving Data from Yelp API"
   ]
  },
  {
   "cell_type": "markdown",
   "metadata": {},
   "source": [
    "## Obective"
   ]
  },
  {
   "cell_type": "markdown",
   "metadata": {
    "id": "8guYh-VR7nlX"
   },
   "source": [
    "- For this CodeAlong, we will be working with the Yelp API. \n",
    "- You will use the the Yelp API to search your home town for a cuisine type of your choice.\n",
    "- Next class, we will then use Plotly Express to create a map with the Mapbox API to visualize the results.\n",
    "    \n",
    "    "
   ]
  },
  {
   "cell_type": "markdown",
   "metadata": {
    "id": "8guYh-VR7nlX"
   },
   "source": [
    "## Tools You Will Use\n",
    "- Part 1:\n",
    "    - Yelp API:\n",
    "        - Getting Started: \n",
    "            - https://www.yelp.com/developers/documentation/v3/get_started\n",
    "\n",
    "    - `YelpAPI` python package\n",
    "        -  \"YelpAPI\": https://github.com/gfairchild/yelpapi\n",
    "- Part 2:\n",
    "\n",
    "    - Plotly Express: https://plotly.com/python/getting-started/\n",
    "        - With Mapbox API: https://www.mapbox.com/\n",
    "        - `px.scatter_mapbox` [Documentation](https://plotly.com/python/scattermapbox/): \n",
    "\n",
    "\n"
   ]
  },
  {
   "cell_type": "markdown",
   "metadata": {},
   "source": [
    "### Applying Code From\n",
    "- Efficient API Calls Lesson Link: https://login.codingdojo.com/m/376/12529/88078"
   ]
  },
  {
   "cell_type": "code",
   "execution_count": 1,
   "metadata": {},
   "outputs": [
    {
     "name": "stdout",
     "output_type": "stream",
     "text": [
      "Requirement already satisfied: tqdm in /opt/anaconda3/envs/dojo-env/lib/python3.7/site-packages (4.64.0)\r\n"
     ]
    }
   ],
   "source": [
    "!pip install tqdm"
   ]
  },
  {
   "cell_type": "code",
   "execution_count": 2,
   "metadata": {},
   "outputs": [],
   "source": [
    "# Standard Imports\n",
    "import numpy as np\n",
    "import pandas as pd\n",
    "import matplotlib.pyplot as plt\n",
    "import seaborn as sns\n",
    "\n",
    "# Additional Imports\n",
    "import os, json, math, time\n",
    "from yelpapi import YelpAPI\n",
    "from tqdm.notebook import tqdm_notebook"
   ]
  },
  {
   "cell_type": "markdown",
   "metadata": {
    "id": "1l3Z-79nBSX9"
   },
   "source": [
    "## 1. Registering for Required APIs"
   ]
  },
  {
   "cell_type": "markdown",
   "metadata": {
    "id": "1l3Z-79nBSX9"
   },
   "source": [
    "\n",
    "- Yelp: https://www.yelp.com/developers/documentation/v3/get_started\n"
   ]
  },
  {
   "cell_type": "markdown",
   "metadata": {},
   "source": [
    "> Check the official API documentation to know what arguments we can search for: https://www.yelp.com/developers/documentation/v3/business_search"
   ]
  },
  {
   "cell_type": "markdown",
   "metadata": {},
   "source": [
    "### Load Credentials and Create Yelp API Object"
   ]
  },
  {
   "cell_type": "code",
   "execution_count": 3,
   "metadata": {
    "ExecuteTime": {
     "end_time": "2022-03-25T18:20:46.629934Z",
     "start_time": "2022-03-25T18:20:45.915864Z"
    },
    "colab": {
     "base_uri": "https://localhost:8080/"
    },
    "id": "xJYqVvNkE36a",
    "outputId": "67798160-dea2-41fc-9040-2b3833efa560"
   },
   "outputs": [
    {
     "data": {
      "text/plain": [
       "dict_keys(['client-id', 'api-key'])"
      ]
     },
     "execution_count": 3,
     "metadata": {},
     "output_type": "execute_result"
    }
   ],
   "source": [
    "# Load API Credentials\n",
    "import json\n",
    "with open('/Users/ashley/.secret/yelp_api.json') as f:\n",
    "    login = json.load(f)\n",
    "login.keys()"
   ]
  },
  {
   "cell_type": "code",
   "execution_count": 4,
   "metadata": {},
   "outputs": [
    {
     "data": {
      "text/plain": [
       "<yelpapi.yelpapi.YelpAPI at 0x7f94bb931850>"
      ]
     },
     "execution_count": 4,
     "metadata": {},
     "output_type": "execute_result"
    }
   ],
   "source": [
    "# Instantiate YelpAPI Variable\n",
    "from yelpapi import YelpAPI\n",
    "yelp_api = YelpAPI(login['api-key'], timeout_s=5.0)\n",
    "yelp_api"
   ]
  },
  {
   "cell_type": "markdown",
   "metadata": {},
   "source": [
    "### Define Search Terms and File Paths"
   ]
  },
  {
   "cell_type": "code",
   "execution_count": 5,
   "metadata": {},
   "outputs": [],
   "source": [
    "# set our API call parameters and filename before the first call\n",
    "LOCATION = \"Philadelphia, PA 19145\"\n",
    "TERM = \"Vegan\""
   ]
  },
  {
   "cell_type": "code",
   "execution_count": 6,
   "metadata": {},
   "outputs": [],
   "source": [
    "## Specify fodler for saving data\n",
    "FOLDER = \"Data/\" \n",
    "os.makedirs(FOLDER,exist_ok = True)\n",
    "# Specifying JSON_FILE filename (can include a folder)\n",
    "JSON_FILE = FOLDER+ f\"{LOCATION.split(',')[0]}-{TERM}.json\""
   ]
  },
  {
   "cell_type": "markdown",
   "metadata": {},
   "source": [
    "### Check if Json File exists and Create it if it doesn't"
   ]
  },
  {
   "cell_type": "code",
   "execution_count": 7,
   "metadata": {},
   "outputs": [
    {
     "name": "stdout",
     "output_type": "stream",
     "text": [
      "[i] Data/Philadelphia-Vegan.json not found. Saving empty list to file.\n"
     ]
    }
   ],
   "source": [
    "## Check if JSON_FILE exists\n",
    "file_exists = os.path.isfile(JSON_FILE)\n",
    "## If it does not exist: \n",
    "if file_exists == False:\n",
    "    \n",
    "    ## CREATE ANY NEEDED FOLDERS\n",
    "    # Get the Folder Name only\n",
    "    folder = os.path.dirname(JSON_FILE)\n",
    "    ## If JSON_FILE included a folder:\n",
    "    if len(folder)>0:\n",
    "        # create the folder\n",
    "        os.makedirs(folder,exist_ok=True)\n",
    "        \n",
    "        \n",
    "    ## INFORM USER AND SAVE EMPTY LIST\n",
    "    print(f\"[i] {JSON_FILE} not found. Saving empty list to file.\")\n",
    "    \n",
    "    \n",
    "    ## save the first page of results\n",
    "    with open(JSON_FILE,'w') as f:\n",
    "        json.dump([],f)  \n",
    "## If it exists, inform user\n",
    "else:\n",
    "    print(f\"[i] {JSON_FILE} already exists.\")"
   ]
  },
  {
   "cell_type": "markdown",
   "metadata": {},
   "source": [
    "### Load JSON FIle and account for previous results"
   ]
  },
  {
   "cell_type": "code",
   "execution_count": 8,
   "metadata": {},
   "outputs": [
    {
     "name": "stdout",
     "output_type": "stream",
     "text": [
      "- 0 previous results found.\n"
     ]
    }
   ],
   "source": [
    "## Load previous results and use len of results for offset\n",
    "with open(JSON_FILE,'r') as f:\n",
    "    previous_results = json.load(f)\n",
    "    \n",
    "## set offset based on previous results\n",
    "n_results = len(previous_results)\n",
    "print(f'- {n_results} previous results found.')"
   ]
  },
  {
   "cell_type": "markdown",
   "metadata": {},
   "source": [
    "### Make the first API call to get the first page of data"
   ]
  },
  {
   "cell_type": "markdown",
   "metadata": {},
   "source": [
    "- We will use this first result to check:\n",
    "    - how many total results there are?\n",
    "    - Where is the actual data we want to save?\n",
    "    - how many results do we get at a time?\n"
   ]
  },
  {
   "cell_type": "code",
   "execution_count": 9,
   "metadata": {},
   "outputs": [
    {
     "data": {
      "text/plain": [
       "dict_keys(['businesses', 'total', 'region'])"
      ]
     },
     "execution_count": 9,
     "metadata": {},
     "output_type": "execute_result"
    }
   ],
   "source": [
    "# use our yelp_api variable's search_query method to perform our API call\n",
    "results = yelp_api.search_query(location=LOCATION,\n",
    "                                term=TERM,\n",
    "                               offset=n_results)\n",
    "results.keys()"
   ]
  },
  {
   "cell_type": "code",
   "execution_count": 10,
   "metadata": {
    "ExecuteTime": {
     "end_time": "2022-03-24T20:01:48.867510Z",
     "start_time": "2022-03-24T20:01:48.854746Z"
    },
    "colab": {
     "base_uri": "https://localhost:8080/"
    },
    "id": "Myur3i1KGhPf",
    "outputId": "f447c6f9-596b-41d0-ccda-50af0ce82108"
   },
   "outputs": [
    {
     "data": {
      "text/plain": [
       "1300"
      ]
     },
     "execution_count": 10,
     "metadata": {},
     "output_type": "execute_result"
    }
   ],
   "source": [
    "## How many results total?\n",
    "total_results = results['total']\n",
    "total_results"
   ]
  },
  {
   "cell_type": "markdown",
   "metadata": {},
   "source": [
    "- Where is the actual data we want to save?"
   ]
  },
  {
   "cell_type": "code",
   "execution_count": null,
   "metadata": {},
   "outputs": [],
   "source": []
  },
  {
   "cell_type": "code",
   "execution_count": 11,
   "metadata": {},
   "outputs": [
    {
     "data": {
      "text/plain": [
       "20"
      ]
     },
     "execution_count": 11,
     "metadata": {},
     "output_type": "execute_result"
    }
   ],
   "source": [
    "## How many did we get the details for?\n",
    "results_per_page = len(results['businesses'])\n",
    "results_per_page"
   ]
  },
  {
   "cell_type": "markdown",
   "metadata": {},
   "source": [
    "- Calculate how many pages of results needed to cover the total_results"
   ]
  },
  {
   "cell_type": "code",
   "execution_count": 12,
   "metadata": {},
   "outputs": [
    {
     "data": {
      "text/plain": [
       "65"
      ]
     },
     "execution_count": 12,
     "metadata": {},
     "output_type": "execute_result"
    }
   ],
   "source": [
    "# Use math.ceil to round up for the total number of pages of results.\n",
    "n_pages = math.ceil((results['total']-n_results)/ results_per_page)\n",
    "n_pages"
   ]
  },
  {
   "cell_type": "code",
   "execution_count": 13,
   "metadata": {},
   "outputs": [
    {
     "data": {
      "application/vnd.jupyter.widget-view+json": {
       "model_id": "10a87b05ecb24559932c9c934ebeb64a",
       "version_major": 2,
       "version_minor": 0
      },
      "text/plain": [
       "  0%|          | 0/65 [00:00<?, ?it/s]"
      ]
     },
     "metadata": {},
     "output_type": "display_data"
    },
    {
     "name": "stdout",
     "output_type": "stream",
     "text": [
      "[!] ERROR:  VALIDATION_ERROR: Too many results requested, limit+offset must be <= 1000.\n",
      "Loop completed.\n"
     ]
    }
   ],
   "source": [
    "    ## The block of code we want to TRY to run\n",
    "    for i in tqdm_notebook( range(1,n_pages+1)):\n",
    "        try:\n",
    "            time.sleep(.2)    \n",
    "\n",
    "            ## Read in results in progress file and check the length\n",
    "            with open(JSON_FILE, 'r') as f:\n",
    "                prev_results =json.load(f)\n",
    "\n",
    "            ## save number of results for to use as offset\n",
    "            n_results = len(prev_results)\n",
    "\n",
    "\n",
    "            ## use n_results as the OFFSET \n",
    "            results = yelp_api.search_query(term = TERM, location=LOCATION, \n",
    "                                            offset=n_results)\n",
    "\n",
    "            ## append new results and save to file\n",
    "            prev_results.extend(results['businesses'])\n",
    "            with open(JSON_FILE, 'w') as f:\n",
    "                json.dump(prev_results,f)\n",
    "    ## What to do if we get an error/exception.\n",
    "        except Exception as e:\n",
    "            print('[!] ERROR: ', e)\n",
    "            break\n",
    "print('Loop completed.')\n"
   ]
  },
  {
   "cell_type": "markdown",
   "metadata": {},
   "source": [
    "## Open the Final JSON File with Pandas"
   ]
  },
  {
   "cell_type": "code",
   "execution_count": 14,
   "metadata": {},
   "outputs": [
    {
     "data": {
      "text/html": [
       "<div>\n",
       "<style scoped>\n",
       "    .dataframe tbody tr th:only-of-type {\n",
       "        vertical-align: middle;\n",
       "    }\n",
       "\n",
       "    .dataframe tbody tr th {\n",
       "        vertical-align: top;\n",
       "    }\n",
       "\n",
       "    .dataframe thead th {\n",
       "        text-align: right;\n",
       "    }\n",
       "</style>\n",
       "<table border=\"1\" class=\"dataframe\">\n",
       "  <thead>\n",
       "    <tr style=\"text-align: right;\">\n",
       "      <th></th>\n",
       "      <th>id</th>\n",
       "      <th>alias</th>\n",
       "      <th>name</th>\n",
       "      <th>image_url</th>\n",
       "      <th>is_closed</th>\n",
       "      <th>url</th>\n",
       "      <th>review_count</th>\n",
       "      <th>categories</th>\n",
       "      <th>rating</th>\n",
       "      <th>coordinates</th>\n",
       "      <th>transactions</th>\n",
       "      <th>price</th>\n",
       "      <th>location</th>\n",
       "      <th>phone</th>\n",
       "      <th>display_phone</th>\n",
       "      <th>distance</th>\n",
       "    </tr>\n",
       "  </thead>\n",
       "  <tbody>\n",
       "    <tr>\n",
       "      <th>0</th>\n",
       "      <td>QSmuCHi63m8zEJvUc6SDAA</td>\n",
       "      <td>monster-vegan-philadelphia</td>\n",
       "      <td>Monster Vegan</td>\n",
       "      <td>https://s3-media1.fl.yelpcdn.com/bphoto/KJl1P_...</td>\n",
       "      <td>False</td>\n",
       "      <td>https://www.yelp.com/biz/monster-vegan-philade...</td>\n",
       "      <td>96</td>\n",
       "      <td>[{'alias': 'vegan', 'title': 'Vegan'}, {'alias...</td>\n",
       "      <td>4.5</td>\n",
       "      <td>{'latitude': 39.94676119356413, 'longitude': -...</td>\n",
       "      <td>[pickup, delivery]</td>\n",
       "      <td>$$</td>\n",
       "      <td>{'address1': '1229 Spruce St', 'address2': '',...</td>\n",
       "      <td>+12157909494</td>\n",
       "      <td>(215) 790-9494</td>\n",
       "      <td>4356.807519</td>\n",
       "    </tr>\n",
       "    <tr>\n",
       "      <th>1</th>\n",
       "      <td>u-xGrOvBv1bxtpAHk-SZ5w</td>\n",
       "      <td>vegan-commissary-philadelphia-2</td>\n",
       "      <td>Vegan Commissary</td>\n",
       "      <td>https://s3-media3.fl.yelpcdn.com/bphoto/_50LQX...</td>\n",
       "      <td>False</td>\n",
       "      <td>https://www.yelp.com/biz/vegan-commissary-phil...</td>\n",
       "      <td>145</td>\n",
       "      <td>[{'alias': 'bakeries', 'title': 'Bakeries'}, {...</td>\n",
       "      <td>4.5</td>\n",
       "      <td>{'latitude': 39.9222106933594, 'longitude': -7...</td>\n",
       "      <td>[delivery]</td>\n",
       "      <td>$$</td>\n",
       "      <td>{'address1': '1429 Wolf St', 'address2': None,...</td>\n",
       "      <td>+12159643232</td>\n",
       "      <td>(215) 964-3232</td>\n",
       "      <td>1939.570148</td>\n",
       "    </tr>\n",
       "    <tr>\n",
       "      <th>2</th>\n",
       "      <td>TyhguONKc8i6M7wP09nTbA</td>\n",
       "      <td>hibiscus-cafe-philadelphia</td>\n",
       "      <td>Hibiscus Cafe</td>\n",
       "      <td>https://s3-media1.fl.yelpcdn.com/bphoto/kD_dVv...</td>\n",
       "      <td>False</td>\n",
       "      <td>https://www.yelp.com/biz/hibiscus-cafe-philade...</td>\n",
       "      <td>157</td>\n",
       "      <td>[{'alias': 'vegetarian', 'title': 'Vegetarian'...</td>\n",
       "      <td>4.5</td>\n",
       "      <td>{'latitude': 39.94851, 'longitude': -75.22156}</td>\n",
       "      <td>[pickup, delivery]</td>\n",
       "      <td>$$</td>\n",
       "      <td>{'address1': '4907 Catharine St', 'address2': ...</td>\n",
       "      <td>+12153073749</td>\n",
       "      <td>(215) 307-3749</td>\n",
       "      <td>4482.689781</td>\n",
       "    </tr>\n",
       "    <tr>\n",
       "      <th>3</th>\n",
       "      <td>2CDI713ATuxHfnB5b-sBdw</td>\n",
       "      <td>vedge-philadelphia</td>\n",
       "      <td>Vedge</td>\n",
       "      <td>https://s3-media3.fl.yelpcdn.com/bphoto/fU-wK0...</td>\n",
       "      <td>False</td>\n",
       "      <td>https://www.yelp.com/biz/vedge-philadelphia?ad...</td>\n",
       "      <td>1484</td>\n",
       "      <td>[{'alias': 'vegan', 'title': 'Vegan'}, {'alias...</td>\n",
       "      <td>4.5</td>\n",
       "      <td>{'latitude': 39.9479310476302, 'longitude': -7...</td>\n",
       "      <td>[delivery]</td>\n",
       "      <td>$$$</td>\n",
       "      <td>{'address1': '1221 Locust St', 'address2': '',...</td>\n",
       "      <td>+12153207500</td>\n",
       "      <td>(215) 320-7500</td>\n",
       "      <td>4502.846821</td>\n",
       "    </tr>\n",
       "    <tr>\n",
       "      <th>4</th>\n",
       "      <td>5oFcqABGb-y38mB83f7NFg</td>\n",
       "      <td>mish-mish-philadelphia</td>\n",
       "      <td>Mish Mish</td>\n",
       "      <td>https://s3-media4.fl.yelpcdn.com/bphoto/zq3leR...</td>\n",
       "      <td>False</td>\n",
       "      <td>https://www.yelp.com/biz/mish-mish-philadelphi...</td>\n",
       "      <td>14</td>\n",
       "      <td>[{'alias': 'mediterranean', 'title': 'Mediterr...</td>\n",
       "      <td>4.5</td>\n",
       "      <td>{'latitude': 39.9296, 'longitude': -75.16305}</td>\n",
       "      <td>[delivery]</td>\n",
       "      <td>NaN</td>\n",
       "      <td>{'address1': '1046 Tasker St', 'address2': Non...</td>\n",
       "      <td>+12677619750</td>\n",
       "      <td>(267) 761-9750</td>\n",
       "      <td>2971.513807</td>\n",
       "    </tr>\n",
       "  </tbody>\n",
       "</table>\n",
       "</div>"
      ],
      "text/plain": [
       "                       id                            alias              name  \\\n",
       "0  QSmuCHi63m8zEJvUc6SDAA       monster-vegan-philadelphia     Monster Vegan   \n",
       "1  u-xGrOvBv1bxtpAHk-SZ5w  vegan-commissary-philadelphia-2  Vegan Commissary   \n",
       "2  TyhguONKc8i6M7wP09nTbA       hibiscus-cafe-philadelphia     Hibiscus Cafe   \n",
       "3  2CDI713ATuxHfnB5b-sBdw               vedge-philadelphia             Vedge   \n",
       "4  5oFcqABGb-y38mB83f7NFg           mish-mish-philadelphia         Mish Mish   \n",
       "\n",
       "                                           image_url  is_closed  \\\n",
       "0  https://s3-media1.fl.yelpcdn.com/bphoto/KJl1P_...      False   \n",
       "1  https://s3-media3.fl.yelpcdn.com/bphoto/_50LQX...      False   \n",
       "2  https://s3-media1.fl.yelpcdn.com/bphoto/kD_dVv...      False   \n",
       "3  https://s3-media3.fl.yelpcdn.com/bphoto/fU-wK0...      False   \n",
       "4  https://s3-media4.fl.yelpcdn.com/bphoto/zq3leR...      False   \n",
       "\n",
       "                                                 url  review_count  \\\n",
       "0  https://www.yelp.com/biz/monster-vegan-philade...            96   \n",
       "1  https://www.yelp.com/biz/vegan-commissary-phil...           145   \n",
       "2  https://www.yelp.com/biz/hibiscus-cafe-philade...           157   \n",
       "3  https://www.yelp.com/biz/vedge-philadelphia?ad...          1484   \n",
       "4  https://www.yelp.com/biz/mish-mish-philadelphi...            14   \n",
       "\n",
       "                                          categories  rating  \\\n",
       "0  [{'alias': 'vegan', 'title': 'Vegan'}, {'alias...     4.5   \n",
       "1  [{'alias': 'bakeries', 'title': 'Bakeries'}, {...     4.5   \n",
       "2  [{'alias': 'vegetarian', 'title': 'Vegetarian'...     4.5   \n",
       "3  [{'alias': 'vegan', 'title': 'Vegan'}, {'alias...     4.5   \n",
       "4  [{'alias': 'mediterranean', 'title': 'Mediterr...     4.5   \n",
       "\n",
       "                                         coordinates        transactions  \\\n",
       "0  {'latitude': 39.94676119356413, 'longitude': -...  [pickup, delivery]   \n",
       "1  {'latitude': 39.9222106933594, 'longitude': -7...          [delivery]   \n",
       "2     {'latitude': 39.94851, 'longitude': -75.22156}  [pickup, delivery]   \n",
       "3  {'latitude': 39.9479310476302, 'longitude': -7...          [delivery]   \n",
       "4      {'latitude': 39.9296, 'longitude': -75.16305}          [delivery]   \n",
       "\n",
       "  price                                           location         phone  \\\n",
       "0    $$  {'address1': '1229 Spruce St', 'address2': '',...  +12157909494   \n",
       "1    $$  {'address1': '1429 Wolf St', 'address2': None,...  +12159643232   \n",
       "2    $$  {'address1': '4907 Catharine St', 'address2': ...  +12153073749   \n",
       "3   $$$  {'address1': '1221 Locust St', 'address2': '',...  +12153207500   \n",
       "4   NaN  {'address1': '1046 Tasker St', 'address2': Non...  +12677619750   \n",
       "\n",
       "    display_phone     distance  \n",
       "0  (215) 790-9494  4356.807519  \n",
       "1  (215) 964-3232  1939.570148  \n",
       "2  (215) 307-3749  4482.689781  \n",
       "3  (215) 320-7500  4502.846821  \n",
       "4  (267) 761-9750  2971.513807  "
      ]
     },
     "metadata": {},
     "output_type": "display_data"
    },
    {
     "data": {
      "text/html": [
       "<div>\n",
       "<style scoped>\n",
       "    .dataframe tbody tr th:only-of-type {\n",
       "        vertical-align: middle;\n",
       "    }\n",
       "\n",
       "    .dataframe tbody tr th {\n",
       "        vertical-align: top;\n",
       "    }\n",
       "\n",
       "    .dataframe thead th {\n",
       "        text-align: right;\n",
       "    }\n",
       "</style>\n",
       "<table border=\"1\" class=\"dataframe\">\n",
       "  <thead>\n",
       "    <tr style=\"text-align: right;\">\n",
       "      <th></th>\n",
       "      <th>id</th>\n",
       "      <th>alias</th>\n",
       "      <th>name</th>\n",
       "      <th>image_url</th>\n",
       "      <th>is_closed</th>\n",
       "      <th>url</th>\n",
       "      <th>review_count</th>\n",
       "      <th>categories</th>\n",
       "      <th>rating</th>\n",
       "      <th>coordinates</th>\n",
       "      <th>transactions</th>\n",
       "      <th>price</th>\n",
       "      <th>location</th>\n",
       "      <th>phone</th>\n",
       "      <th>display_phone</th>\n",
       "      <th>distance</th>\n",
       "    </tr>\n",
       "  </thead>\n",
       "  <tbody>\n",
       "    <tr>\n",
       "      <th>995</th>\n",
       "      <td>3BJxm-HnvzdwD1zjmSbmyQ</td>\n",
       "      <td>golden-chopstick-chinese-restaurant-philadelphia</td>\n",
       "      <td>Golden Chopstick Chinese Restaurant</td>\n",
       "      <td>https://s3-media2.fl.yelpcdn.com/bphoto/ztDB9n...</td>\n",
       "      <td>False</td>\n",
       "      <td>https://www.yelp.com/biz/golden-chopstick-chin...</td>\n",
       "      <td>142</td>\n",
       "      <td>[{'alias': 'chinese', 'title': 'Chinese'}]</td>\n",
       "      <td>3.0</td>\n",
       "      <td>{'latitude': 39.9623477, 'longitude': -75.1624...</td>\n",
       "      <td>[pickup, delivery]</td>\n",
       "      <td>$</td>\n",
       "      <td>{'address1': '490 N Broad St', 'address2': 'St...</td>\n",
       "      <td>+12154969190</td>\n",
       "      <td>(215) 496-9190</td>\n",
       "      <td>5843.628459</td>\n",
       "    </tr>\n",
       "    <tr>\n",
       "      <th>996</th>\n",
       "      <td>zf10JmXNZFljGl3IgWW-Lg</td>\n",
       "      <td>mizu-philadelphia</td>\n",
       "      <td>Mizu</td>\n",
       "      <td>https://s3-media2.fl.yelpcdn.com/bphoto/FnJ99I...</td>\n",
       "      <td>False</td>\n",
       "      <td>https://www.yelp.com/biz/mizu-philadelphia?adj...</td>\n",
       "      <td>122</td>\n",
       "      <td>[{'alias': 'sushi', 'title': 'Sushi Bars'}]</td>\n",
       "      <td>3.5</td>\n",
       "      <td>{'latitude': 39.9552752, 'longitude': -75.2022...</td>\n",
       "      <td>[pickup, delivery]</td>\n",
       "      <td>$$</td>\n",
       "      <td>{'address1': '111 S 40th St', 'address2': '', ...</td>\n",
       "      <td>+12153821745</td>\n",
       "      <td>(215) 382-1745</td>\n",
       "      <td>4561.134310</td>\n",
       "    </tr>\n",
       "    <tr>\n",
       "      <th>997</th>\n",
       "      <td>jAKvrLDkkKai0shp-IY0pg</td>\n",
       "      <td>sugar-factory-philadelphia-philadelphia-3</td>\n",
       "      <td>Sugar Factory - Philadelphia</td>\n",
       "      <td>https://s3-media1.fl.yelpcdn.com/bphoto/NT-fkl...</td>\n",
       "      <td>False</td>\n",
       "      <td>https://www.yelp.com/biz/sugar-factory-philade...</td>\n",
       "      <td>72</td>\n",
       "      <td>[{'alias': 'tradamerican', 'title': 'American ...</td>\n",
       "      <td>2.5</td>\n",
       "      <td>{'latitude': 39.95041407925572, 'longitude': -...</td>\n",
       "      <td>[]</td>\n",
       "      <td>NaN</td>\n",
       "      <td>{'address1': '1216 Chestnut St', 'address2': '...</td>\n",
       "      <td>+12159774993</td>\n",
       "      <td>(215) 977-4993</td>\n",
       "      <td>4749.033521</td>\n",
       "    </tr>\n",
       "    <tr>\n",
       "      <th>998</th>\n",
       "      <td>n5Fdf9RzooS7obq0NecOWw</td>\n",
       "      <td>four-seasons-juice-bar-philadelphia</td>\n",
       "      <td>Four Seasons Juice Bar</td>\n",
       "      <td>https://s3-media4.fl.yelpcdn.com/bphoto/Vy_0yZ...</td>\n",
       "      <td>False</td>\n",
       "      <td>https://www.yelp.com/biz/four-seasons-juice-ba...</td>\n",
       "      <td>116</td>\n",
       "      <td>[{'alias': 'juicebars', 'title': 'Juice Bars &amp;...</td>\n",
       "      <td>4.5</td>\n",
       "      <td>{'latitude': 39.9530036997233, 'longitude': -7...</td>\n",
       "      <td>[delivery]</td>\n",
       "      <td>$</td>\n",
       "      <td>{'address1': '51 N 12th St', 'address2': '', '...</td>\n",
       "      <td></td>\n",
       "      <td></td>\n",
       "      <td>5068.505876</td>\n",
       "    </tr>\n",
       "    <tr>\n",
       "      <th>999</th>\n",
       "      <td>AJchGMnrpfIbTULXE2fasA</td>\n",
       "      <td>baby-buns-philly-philadelphia</td>\n",
       "      <td>Baby Buns Philly</td>\n",
       "      <td>https://s3-media1.fl.yelpcdn.com/bphoto/9n8DnL...</td>\n",
       "      <td>False</td>\n",
       "      <td>https://www.yelp.com/biz/baby-buns-philly-phil...</td>\n",
       "      <td>23</td>\n",
       "      <td>[{'alias': 'burgers', 'title': 'Burgers'}]</td>\n",
       "      <td>3.5</td>\n",
       "      <td>{'latitude': 39.949747, 'longitude': -75.148196}</td>\n",
       "      <td>[pickup, delivery]</td>\n",
       "      <td>NaN</td>\n",
       "      <td>{'address1': '111 S Independence Mall E', 'add...</td>\n",
       "      <td>+16092882721</td>\n",
       "      <td>(609) 288-2721</td>\n",
       "      <td>5391.831603</td>\n",
       "    </tr>\n",
       "  </tbody>\n",
       "</table>\n",
       "</div>"
      ],
      "text/plain": [
       "                         id                                             alias  \\\n",
       "995  3BJxm-HnvzdwD1zjmSbmyQ  golden-chopstick-chinese-restaurant-philadelphia   \n",
       "996  zf10JmXNZFljGl3IgWW-Lg                                 mizu-philadelphia   \n",
       "997  jAKvrLDkkKai0shp-IY0pg         sugar-factory-philadelphia-philadelphia-3   \n",
       "998  n5Fdf9RzooS7obq0NecOWw               four-seasons-juice-bar-philadelphia   \n",
       "999  AJchGMnrpfIbTULXE2fasA                     baby-buns-philly-philadelphia   \n",
       "\n",
       "                                    name  \\\n",
       "995  Golden Chopstick Chinese Restaurant   \n",
       "996                                 Mizu   \n",
       "997         Sugar Factory - Philadelphia   \n",
       "998               Four Seasons Juice Bar   \n",
       "999                     Baby Buns Philly   \n",
       "\n",
       "                                             image_url  is_closed  \\\n",
       "995  https://s3-media2.fl.yelpcdn.com/bphoto/ztDB9n...      False   \n",
       "996  https://s3-media2.fl.yelpcdn.com/bphoto/FnJ99I...      False   \n",
       "997  https://s3-media1.fl.yelpcdn.com/bphoto/NT-fkl...      False   \n",
       "998  https://s3-media4.fl.yelpcdn.com/bphoto/Vy_0yZ...      False   \n",
       "999  https://s3-media1.fl.yelpcdn.com/bphoto/9n8DnL...      False   \n",
       "\n",
       "                                                   url  review_count  \\\n",
       "995  https://www.yelp.com/biz/golden-chopstick-chin...           142   \n",
       "996  https://www.yelp.com/biz/mizu-philadelphia?adj...           122   \n",
       "997  https://www.yelp.com/biz/sugar-factory-philade...            72   \n",
       "998  https://www.yelp.com/biz/four-seasons-juice-ba...           116   \n",
       "999  https://www.yelp.com/biz/baby-buns-philly-phil...            23   \n",
       "\n",
       "                                            categories  rating  \\\n",
       "995         [{'alias': 'chinese', 'title': 'Chinese'}]     3.0   \n",
       "996        [{'alias': 'sushi', 'title': 'Sushi Bars'}]     3.5   \n",
       "997  [{'alias': 'tradamerican', 'title': 'American ...     2.5   \n",
       "998  [{'alias': 'juicebars', 'title': 'Juice Bars &...     4.5   \n",
       "999         [{'alias': 'burgers', 'title': 'Burgers'}]     3.5   \n",
       "\n",
       "                                           coordinates        transactions  \\\n",
       "995  {'latitude': 39.9623477, 'longitude': -75.1624...  [pickup, delivery]   \n",
       "996  {'latitude': 39.9552752, 'longitude': -75.2022...  [pickup, delivery]   \n",
       "997  {'latitude': 39.95041407925572, 'longitude': -...                  []   \n",
       "998  {'latitude': 39.9530036997233, 'longitude': -7...          [delivery]   \n",
       "999   {'latitude': 39.949747, 'longitude': -75.148196}  [pickup, delivery]   \n",
       "\n",
       "    price                                           location         phone  \\\n",
       "995     $  {'address1': '490 N Broad St', 'address2': 'St...  +12154969190   \n",
       "996    $$  {'address1': '111 S 40th St', 'address2': '', ...  +12153821745   \n",
       "997   NaN  {'address1': '1216 Chestnut St', 'address2': '...  +12159774993   \n",
       "998     $  {'address1': '51 N 12th St', 'address2': '', '...                 \n",
       "999   NaN  {'address1': '111 S Independence Mall E', 'add...  +16092882721   \n",
       "\n",
       "      display_phone     distance  \n",
       "995  (215) 496-9190  5843.628459  \n",
       "996  (215) 382-1745  4561.134310  \n",
       "997  (215) 977-4993  4749.033521  \n",
       "998                  5068.505876  \n",
       "999  (609) 288-2721  5391.831603  "
      ]
     },
     "metadata": {},
     "output_type": "display_data"
    }
   ],
   "source": [
    "final_df = pd.read_json(JSON_FILE)\n",
    "display(final_df.head(), final_df.tail())"
   ]
  },
  {
   "cell_type": "code",
   "execution_count": 18,
   "metadata": {},
   "outputs": [
    {
     "data": {
      "text/plain": [
       "'Data/Philadelphia-Vegan.csv.gz'"
      ]
     },
     "execution_count": 18,
     "metadata": {},
     "output_type": "execute_result"
    }
   ],
   "source": [
    "## convert the filename to a .csv.gz\n",
    "csv_file = JSON_FILE.replace('.json','.csv.gz')\n",
    "csv_file"
   ]
  },
  {
   "cell_type": "code",
   "execution_count": 20,
   "metadata": {},
   "outputs": [],
   "source": [
    "# save the final results to a compressed csv\n",
    "final_df.to_csv(csv_file, \n",
    "                compression='gzip',index=False)"
   ]
  },
  {
   "cell_type": "markdown",
   "metadata": {},
   "source": [
    "## Bonus: compare filesize with os module's `os.path.getsize`"
   ]
  },
  {
   "cell_type": "code",
   "execution_count": 21,
   "metadata": {},
   "outputs": [
    {
     "name": "stdout",
     "output_type": "stream",
     "text": [
      "JSON FILE: 987,306 Bytes\n",
      "CSV.GZ FILE: 141,596 Bytes\n",
      "the csv.gz is 6.9726969688409275 times smaller!\n"
     ]
    }
   ],
   "source": [
    "size_json = os.path.getsize(JSON_FILE)\n",
    "size_csv_gz = os.path.getsize(JSON_FILE.replace('.json','.csv.gz'))\n",
    "\n",
    "print(f'JSON FILE: {size_json:,} Bytes')\n",
    "print(f'CSV.GZ FILE: {size_csv_gz:,} Bytes')\n",
    "\n",
    "print(f'the csv.gz is {size_json/size_csv_gz} times smaller!')"
   ]
  },
  {
   "cell_type": "markdown",
   "metadata": {
    "heading_collapsed": true
   },
   "source": [
    "## Next Class: Processing the Results and Mapping "
   ]
  }
 ],
 "metadata": {
  "colab": {
   "collapsed_sections": [],
   "name": "Test Yelp API Package.ipynb",
   "provenance": []
  },
  "kernelspec": {
   "display_name": "Python (dojo-env)",
   "language": "python",
   "name": "dojo-env"
  },
  "language_info": {
   "codemirror_mode": {
    "name": "ipython",
    "version": 3
   },
   "file_extension": ".py",
   "mimetype": "text/x-python",
   "name": "python",
   "nbconvert_exporter": "python",
   "pygments_lexer": "ipython3",
   "version": "3.7.12"
  },
  "toc": {
   "base_numbering": 1,
   "nav_menu": {},
   "number_sections": false,
   "sideBar": true,
   "skip_h1_title": false,
   "title_cell": "Table of Contents",
   "title_sidebar": "Contents",
   "toc_cell": false,
   "toc_position": {},
   "toc_section_display": true,
   "toc_window_display": true
  }
 },
 "nbformat": 4,
 "nbformat_minor": 1
}
